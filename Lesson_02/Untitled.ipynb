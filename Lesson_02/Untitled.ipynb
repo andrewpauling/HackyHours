{
 "cells": [
  {
   "cell_type": "code",
   "execution_count": 1,
   "metadata": {},
   "outputs": [],
   "source": [
    "%config Completer.use_jedi = False\n",
    "%matplotlib inline\n",
    "\n",
    "import numpy as np\n",
    "import matplotlib as mpl \n",
    "import matplotlib.pyplot as plt\n",
    "import xarray as xr\n",
    "import cartopy.crs as ccrs"
   ]
  },
  {
   "cell_type": "markdown",
   "metadata": {},
   "source": [
    "## Load netCDF file into xarray Dataset"
   ]
  },
  {
   "cell_type": "code",
   "execution_count": 3,
   "metadata": {},
   "outputs": [
    {
     "data": {
      "text/plain": [
       "<xarray.Dataset>\n",
       "Dimensions:    (time: 446, x: 304, y: 448)\n",
       "Coordinates:\n",
       "  * x          (x) int64 0 1 2 3 4 5 6 7 8 ... 296 297 298 299 300 301 302 303\n",
       "  * y          (y) int64 0 1 2 3 4 5 6 7 8 ... 440 441 442 443 444 445 446 447\n",
       "    lat        (x, y) float64 ...\n",
       "    lon        (x, y) float64 ...\n",
       "  * time       (time) datetime64[ns] 1978-11-01 1978-12-01 ... 2015-12-01\n",
       "    hole_mask  (time, y, x) bool ...\n",
       "Data variables:\n",
       "    sic        (time, x, y) float64 ..."
      ]
     },
     "execution_count": 3,
     "metadata": {},
     "output_type": "execute_result"
    }
   ],
   "source": [
    "dfile = '/home/disk/eos15/apauling/seaice/nsidc_sic.nc'\n",
    "\n",
    "ds = xr.open_dataset(dfile)\n",
    "ds"
   ]
  },
  {
   "cell_type": "markdown",
   "metadata": {},
   "source": [
    "## Load sea ice concentration into a DataArray from the Dataset "
   ]
  },
  {
   "cell_type": "code",
   "execution_count": 6,
   "metadata": {},
   "outputs": [
    {
     "data": {
      "text/plain": [
       "<xarray.DataArray 'sic' (time: 446, x: 304, y: 448)>\n",
       "[60741632 values with dtype=float64]\n",
       "Coordinates:\n",
       "  * x          (x) int64 0 1 2 3 4 5 6 7 8 ... 296 297 298 299 300 301 302 303\n",
       "  * y          (y) int64 0 1 2 3 4 5 6 7 8 ... 440 441 442 443 444 445 446 447\n",
       "    lat        (x, y) float64 ...\n",
       "    lon        (x, y) float64 ...\n",
       "  * time       (time) datetime64[ns] 1978-11-01 1978-12-01 ... 2015-12-01\n",
       "    hole_mask  (time, y, x) bool ..."
      ]
     },
     "execution_count": 6,
     "metadata": {},
     "output_type": "execute_result"
    }
   ],
   "source": [
    "sic = ds['sic']\n",
    "sic"
   ]
  },
  {
   "cell_type": "markdown",
   "metadata": {},
   "source": [
    "### Show the dimensions of the DataArray"
   ]
  },
  {
   "cell_type": "code",
   "execution_count": 10,
   "metadata": {},
   "outputs": [
    {
     "name": "stdout",
     "output_type": "stream",
     "text": [
      "('time', 'x', 'y')\n"
     ]
    }
   ],
   "source": [
    "print(sic.dims)"
   ]
  },
  {
   "cell_type": "markdown",
   "metadata": {},
   "source": [
    "### Show the coordinates of the DataArray"
   ]
  },
  {
   "cell_type": "code",
   "execution_count": 8,
   "metadata": {},
   "outputs": [
    {
     "name": "stdout",
     "output_type": "stream",
     "text": [
      "Coordinates:\n",
      "  * x          (x) int64 0 1 2 3 4 5 6 7 8 ... 296 297 298 299 300 301 302 303\n",
      "  * y          (y) int64 0 1 2 3 4 5 6 7 8 ... 440 441 442 443 444 445 446 447\n",
      "    lat        (x, y) float64 ...\n",
      "    lon        (x, y) float64 ...\n",
      "  * time       (time) datetime64[ns] 1978-11-01 1978-12-01 ... 2015-12-01\n",
      "    hole_mask  (time, y, x) bool ...\n"
     ]
    }
   ],
   "source": [
    "print(sic.coords)"
   ]
  },
  {
   "cell_type": "code",
   "execution_count": null,
   "metadata": {},
   "outputs": [],
   "source": []
  }
 ],
 "metadata": {
  "kernelspec": {
   "display_name": "Python 3",
   "language": "python",
   "name": "python3"
  },
  "language_info": {
   "codemirror_mode": {
    "name": "ipython",
    "version": 3
   },
   "file_extension": ".py",
   "mimetype": "text/x-python",
   "name": "python",
   "nbconvert_exporter": "python",
   "pygments_lexer": "ipython3",
   "version": "3.7.3"
  }
 },
 "nbformat": 4,
 "nbformat_minor": 2
}
