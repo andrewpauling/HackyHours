{
 "cells": [
  {
   "cell_type": "code",
   "execution_count": 1,
   "metadata": {},
   "outputs": [],
   "source": [
    "import numpy as np\n",
    "import matplotlib\n",
    "import matplotlib.pyplot as plt\n",
    "import xarray as xr\n",
    "import os\n",
    "import numpy.ma as ma\n",
    "import pandas as pd\n",
    "import scipy.stats"
   ]
  },
  {
   "cell_type": "code",
   "execution_count": 2,
   "metadata": {},
   "outputs": [
    {
     "data": {
      "text/html": [
       "<table style=\"border: 2px solid white;\">\n",
       "<tr>\n",
       "<td style=\"vertical-align: top; border: 0px solid white\">\n",
       "<h3 style=\"text-align: left;\">Client</h3>\n",
       "<ul style=\"text-align: left; list-style: none; margin: 0; padding: 0;\">\n",
       "  <li><b>Scheduler: </b>tcp://128.117.181.227:42077</li>\n",
       "  <li><b>Dashboard: </b><a href='http://128.117.181.227:8787/status' target='_blank'>http://128.117.181.227:8787/status</a>\n",
       "</ul>\n",
       "</td>\n",
       "<td style=\"vertical-align: top; border: 0px solid white\">\n",
       "<h3 style=\"text-align: left;\">Cluster</h3>\n",
       "<ul style=\"text-align: left; list-style:none; margin: 0; padding: 0;\">\n",
       "  <li><b>Workers: </b>0</li>\n",
       "  <li><b>Cores: </b>0</li>\n",
       "  <li><b>Memory: </b>0 B</li>\n",
       "</ul>\n",
       "</td>\n",
       "</tr>\n",
       "</table>"
      ],
      "text/plain": [
       "<Client: 'tcp://128.117.181.227:42077' processes=0 threads=0, memory=0 B>"
      ]
     },
     "execution_count": 2,
     "metadata": {},
     "output_type": "execute_result"
    }
   ],
   "source": [
    "from dask_jobqueue import SLURMCluster\n",
    "cluster = SLURMCluster(project='UWAS0070',\n",
    "                       memory='200G')\n",
    "cluster.scale(36)\n",
    "\n",
    "from dask.distributed import Client\n",
    "client = Client(cluster) # Connect this local process to remote workers\n",
    "client"
   ]
  },
  {
   "cell_type": "code",
   "execution_count": 7,
   "metadata": {},
   "outputs": [],
   "source": [
    "def is_month(month,index):\n",
    "    return month==index"
   ]
  },
  {
   "cell_type": "code",
   "execution_count": 23,
   "metadata": {},
   "outputs": [],
   "source": [
    "def new_linregress(x, y):\n",
    "    # Wrapper around scipy linregress to use in apply_ufunc\n",
    "    slope, intercept, r_value, p_value, std_err = scipy.stats.linregress(x, y)\n",
    "    return np.array([slope, intercept, r_value, p_value, std_err])"
   ]
  },
  {
   "cell_type": "code",
   "execution_count": 26,
   "metadata": {},
   "outputs": [],
   "source": [
    "ds = xr.open_dataset('/glade/work/lettier/NUDGEsh/sic_processed_combined_sh_1979-2018_reg1deg.nc')"
   ]
  },
  {
   "cell_type": "code",
   "execution_count": 27,
   "metadata": {},
   "outputs": [
    {
     "data": {
      "text/html": [
       "<pre>&lt;xarray.Dataset&gt;\n",
       "Dimensions:    (latitude: 60, longitude: 360, name: 40, time: 480)\n",
       "Coordinates:\n",
       "  * latitude   (latitude) float32 -30.5 -31.5 -32.5 -33.5 ... -87.5 -88.5 -89.5\n",
       "  * longitude  (longitude) float32 -179.5 -178.5 -177.5 ... 177.5 178.5 179.5\n",
       "  * time       (time) datetime64[ns] 1979-01-01 1979-02-01 ... 2018-12-01\n",
       "  * name       (name) object &#x27;Bootstrap&#x27; &#x27;NASA-Team&#x27; ... &#x27;LENS-34&#x27; &#x27;LENS-35&#x27;\n",
       "Data variables:\n",
       "    siconc     (name, time, latitude, longitude) float32 ...\n",
       "    tarea      (latitude, longitude) float64 ...</pre>"
      ],
      "text/plain": [
       "<xarray.Dataset>\n",
       "Dimensions:    (latitude: 60, longitude: 360, name: 40, time: 480)\n",
       "Coordinates:\n",
       "  * latitude   (latitude) float32 -30.5 -31.5 -32.5 -33.5 ... -87.5 -88.5 -89.5\n",
       "  * longitude  (longitude) float32 -179.5 -178.5 -177.5 ... 177.5 178.5 179.5\n",
       "  * time       (time) datetime64[ns] 1979-01-01 1979-02-01 ... 2018-12-01\n",
       "  * name       (name) object 'Bootstrap' 'NASA-Team' ... 'LENS-34' 'LENS-35'\n",
       "Data variables:\n",
       "    siconc     (name, time, latitude, longitude) float32 ...\n",
       "    tarea      (latitude, longitude) float64 ..."
      ]
     },
     "execution_count": 27,
     "metadata": {},
     "output_type": "execute_result"
    }
   ],
   "source": [
    "ds"
   ]
  },
  {
   "cell_type": "code",
   "execution_count": 28,
   "metadata": {},
   "outputs": [],
   "source": [
    "ds = ds.chunk({'latitude': 30, 'longitude': 30}  )"
   ]
  },
  {
   "cell_type": "code",
   "execution_count": 29,
   "metadata": {},
   "outputs": [],
   "source": [
    "monds = ds.sel(time=is_month(ds['time.month'],3)) # select March"
   ]
  },
  {
   "cell_type": "code",
   "execution_count": 30,
   "metadata": {},
   "outputs": [],
   "source": [
    "outds = xr.apply_ufunc(new_linregress, np.arange(len(monds.time)), monds.siconc,\n",
    "                       input_core_dims=[['time'], ['time']],\n",
    "                       output_core_dims=[[\"stats\"]],\n",
    "                       vectorize=True,\n",
    "                       dask=\"parallelized\",\n",
    "                       output_dtypes=['float64'],\n",
    "                       output_sizes={\"stats\": 5},\n",
    "                      ) # stats = slope, intercept, pval etc"
   ]
  },
  {
   "cell_type": "code",
   "execution_count": 31,
   "metadata": {},
   "outputs": [
    {
     "data": {
      "text/html": [
       "<pre>&lt;xarray.DataArray &#x27;siconc&#x27; (name: 40, latitude: 60, longitude: 360, stats: 5)&gt;\n",
       "dask.array&lt;vectorize_new_linregress, shape=(40, 60, 360, 5), dtype=float64, chunksize=(40, 30, 30, 5), chunktype=numpy.ndarray&gt;\n",
       "Coordinates:\n",
       "  * latitude   (latitude) float32 -30.5 -31.5 -32.5 -33.5 ... -87.5 -88.5 -89.5\n",
       "  * longitude  (longitude) float32 -179.5 -178.5 -177.5 ... 177.5 178.5 179.5\n",
       "  * name       (name) object &#x27;Bootstrap&#x27; &#x27;NASA-Team&#x27; ... &#x27;LENS-34&#x27; &#x27;LENS-35&#x27;\n",
       "Dimensions without coordinates: stats</pre>"
      ],
      "text/plain": [
       "<xarray.DataArray 'siconc' (name: 40, latitude: 60, longitude: 360, stats: 5)>\n",
       "dask.array<vectorize_new_linregress, shape=(40, 60, 360, 5), dtype=float64, chunksize=(40, 30, 30, 5), chunktype=numpy.ndarray>\n",
       "Coordinates:\n",
       "  * latitude   (latitude) float32 -30.5 -31.5 -32.5 -33.5 ... -87.5 -88.5 -89.5\n",
       "  * longitude  (longitude) float32 -179.5 -178.5 -177.5 ... 177.5 178.5 179.5\n",
       "  * name       (name) object 'Bootstrap' 'NASA-Team' ... 'LENS-34' 'LENS-35'\n",
       "Dimensions without coordinates: stats"
      ]
     },
     "execution_count": 31,
     "metadata": {},
     "output_type": "execute_result"
    }
   ],
   "source": [
    "outds"
   ]
  },
  {
   "cell_type": "code",
   "execution_count": 32,
   "metadata": {},
   "outputs": [
    {
     "data": {
      "text/html": [
       "<pre>&lt;xarray.DataArray &#x27;stats&#x27; (stats: 5)&gt;\n",
       "array([0, 1, 2, 3, 4])\n",
       "Dimensions without coordinates: stats</pre>"
      ],
      "text/plain": [
       "<xarray.DataArray 'stats' (stats: 5)>\n",
       "array([0, 1, 2, 3, 4])\n",
       "Dimensions without coordinates: stats"
      ]
     },
     "execution_count": 32,
     "metadata": {},
     "output_type": "execute_result"
    }
   ],
   "source": [
    "outds.stats"
   ]
  },
  {
   "cell_type": "code",
   "execution_count": 33,
   "metadata": {},
   "outputs": [],
   "source": [
    "outds['stats'] = ['slope', 'intercept', 'r_value', 'p_value', 'std_err']"
   ]
  },
  {
   "cell_type": "code",
   "execution_count": 34,
   "metadata": {},
   "outputs": [
    {
     "data": {
      "text/plain": [
       "<matplotlib.collections.QuadMesh at 0x2b61fb299160>"
      ]
     },
     "execution_count": 34,
     "metadata": {},
     "output_type": "execute_result"
    },
    {
     "data": {
      "image/png": "[encoded data removed]",
      "text/plain": [
       "<Figure size 432x288 with 2 Axes>"
      ]
     },
     "metadata": {
      "needs_background": "light"
     },
     "output_type": "display_data"
    }
   ],
   "source": [
    "outds.isel(stats=0).isel(name=0).plot()"
   ]
  },
  {
   "cell_type": "code",
   "execution_count": null,
   "metadata": {},
   "outputs": [],
   "source": []
  },
  {
   "cell_type": "code",
   "execution_count": null,
   "metadata": {},
   "outputs": [],
   "source": []
  }
 ],
 "metadata": {
  "kernelspec": {
   "display_name": "Python 3",
   "language": "python",
   "name": "python3"
  },
  "language_info": {
   "codemirror_mode": {
    "name": "ipython",
    "version": 3
   },
   "file_extension": ".py",
   "mimetype": "text/x-python",
   "name": "python",
   "nbconvert_exporter": "python",
   "pygments_lexer": "ipython3",
   "version": "3.7.3"
  }
 },
 "nbformat": 4,
 "nbformat_minor": 4
}
