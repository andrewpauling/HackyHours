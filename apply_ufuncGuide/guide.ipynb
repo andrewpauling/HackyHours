{
 "cells": [
  {
   "cell_type": "code",
   "execution_count": 2,
   "metadata": {},
   "outputs": [],
   "source": [
    "import numpy as np\n",
    "import matplotlib as mpl\n",
    "import matplotlib.pyplot as plt\n",
    "import xarray as xr\n",
    "import os.path"
   ]
  },
  {
   "cell_type": "markdown",
   "metadata": {},
   "source": [
    "# `xr.apply_ufunc` guide\n",
    "\n",
    "## What is `xr.apply_ufunc`?\n",
    "If you're not familiar, `xr.apply_ufunc` allows you to use any function not already implemented within `xarray` and apply it to `xarray DataArrays`, and have the output still be an `xarray DataArray`\n",
    "\n",
    "## When should you use it?\n",
    "I personally use this if I want to use some numpy or scipy function that isn't in `xarray` and get output that is still a `DataArray`. For example, performing a Student's two-tailed t-test on a surface temperature anomaly using `scipy.stats.ttest_ind` where I want the t-statistic and p-value to be `DataArray`s that I can then plot using the internal `xarray` plotting functions like normal.\n",
    "\n",
    "You can also use `xr.apply_ufunc` to apply your own custom-written functions to `xarray DataArrays`, although I haven't shown that here. There are examples on the `xarray` documentation website. "
   ]
  },
  {
   "cell_type": "markdown",
   "metadata": {},
   "source": [
    "## How does it work?\n",
    "The call signature of the most basic call to `xr.apply_ufunc` works as follows:  \n",
    "```Python\n",
    "output = xr.apply_ufunc(func, a, b)\n",
    "```\n",
    "where `func` is the name of the function, and `a` and `b` are the inputs to that function.  \n",
    "\n",
    "Below is a simple example with `np.dot`. "
   ]
  },
  {
   "cell_type": "markdown",
   "metadata": {},
   "source": [
    "#### Let's define two random matrices with dimensions of lat and lon"
   ]
  },
  {
   "cell_type": "code",
   "execution_count": 15,
   "metadata": {},
   "outputs": [],
   "source": [
    "a = np.random.rand(10, 10)\n",
    "b = np.random.rand(10, 10)"
   ]
  },
  {
   "cell_type": "markdown",
   "metadata": {},
   "source": [
    "#### Now lets turn them into DataArrays and print one to make sure it worked"
   ]
  },
  {
   "cell_type": "code",
   "execution_count": 16,
   "metadata": {},
   "outputs": [
    {
     "name": "stdout",
     "output_type": "stream",
     "text": [
      "<xarray.DataArray (x: 10, y: 10)>\n",
      "array([[0.9071326 , 0.2738456 , 0.98733907, 0.56056314, 0.69990485,\n",
      "        0.69757746, 0.22177164, 0.50329586, 0.99434596, 0.82418651],\n",
      "       [0.48193205, 0.37070081, 0.08757512, 0.33712213, 0.18690179,\n",
      "        0.00561959, 0.88958541, 0.79886476, 0.22904419, 0.62023806],\n",
      "       [0.78039137, 0.66689118, 0.1395951 , 0.39604681, 0.93641767,\n",
      "        0.73535231, 0.79662876, 0.83054082, 0.71049857, 0.87707329],\n",
      "       [0.72369852, 0.4161306 , 0.55849867, 0.46202991, 0.27628758,\n",
      "        0.22151333, 0.34459488, 0.54364468, 0.58847844, 0.18306986],\n",
      "       [0.40582215, 0.98505407, 0.78853346, 0.78836926, 0.20034714,\n",
      "        0.4833068 , 0.50510723, 0.73542754, 0.27427597, 0.62116283],\n",
      "       [0.03113889, 0.69473661, 0.96918972, 0.77635177, 0.99695811,\n",
      "        0.06750231, 0.68218477, 0.66191695, 0.02257885, 0.43118431],\n",
      "       [0.27981497, 0.7181439 , 0.35993418, 0.1159624 , 0.85349349,\n",
      "        0.8379432 , 0.20399039, 0.27084693, 0.05184812, 0.30142801],\n",
      "       [0.09701389, 0.37750221, 0.63704625, 0.7422668 , 0.15885697,\n",
      "        0.75439509, 0.07592441, 0.69810003, 0.37382491, 0.18393861],\n",
      "       [0.46498878, 0.77253334, 0.28323958, 0.53367937, 0.70765295,\n",
      "        0.97637606, 0.06597871, 0.7220055 , 0.89468623, 0.18841963],\n",
      "       [0.90268187, 0.0908423 , 0.23437515, 0.16309291, 0.69729166,\n",
      "        0.41739999, 0.97119136, 0.42046328, 0.99390708, 0.14176129]])\n",
      "Dimensions without coordinates: x, y\n"
     ]
    }
   ],
   "source": [
    "ax = xr.DataArray(a, dims=('x','y'))\n",
    "bx = xr.DataArray(b, dims=('x','y'))\n",
    "print(ax)"
   ]
  },
  {
   "cell_type": "markdown",
   "metadata": {},
   "source": [
    "#### Now lets compute the dot product of a and b using apply_ufunc and print the result"
   ]
  },
  {
   "cell_type": "code",
   "execution_count": 17,
   "metadata": {},
   "outputs": [
    {
     "name": "stdout",
     "output_type": "stream",
     "text": [
      "<xarray.DataArray (x: 10, y: 10)>\n",
      "array([[2.91063487, 4.68232988, 3.46509646, 2.87839579, 2.98503813,\n",
      "        2.42675721, 4.5904359 , 4.18271508, 2.3647017 , 4.7134605 ],\n",
      "       [1.76604193, 2.80163933, 1.85378894, 2.18660089, 2.19452923,\n",
      "        1.56161145, 1.92398448, 2.46959546, 1.72438251, 2.50589897],\n",
      "       [3.29955151, 4.9374459 , 3.4325557 , 3.33892925, 3.37430701,\n",
      "        2.96421577, 3.96090076, 4.17931691, 2.6802092 , 4.41944076],\n",
      "       [1.86365526, 3.30540275, 2.17636784, 1.8357685 , 2.04524077,\n",
      "        1.44992072, 2.58398019, 2.909874  , 1.58858263, 2.76090462],\n",
      "       [2.92351261, 4.24403722, 2.82793488, 2.79388267, 3.08304484,\n",
      "        2.37163947, 3.38109548, 3.91810749, 2.28419452, 3.5541381 ],\n",
      "       [3.30271082, 4.03390144, 2.88212501, 2.52252958, 2.67839866,\n",
      "        2.5436227 , 3.12939238, 3.73264661, 2.62122896, 3.09088452],\n",
      "       [2.47323111, 3.26746886, 1.85561282, 1.73015877, 2.05945499,\n",
      "        2.11379781, 2.33694708, 2.62410458, 1.63081951, 2.20761777],\n",
      "       [2.30227637, 3.08215806, 2.43396789, 1.96096318, 1.84631362,\n",
      "        1.29218464, 2.77744111, 2.88750658, 1.43092436, 2.93713672],\n",
      "       [2.92568856, 4.32748769, 3.24008665, 2.40835112, 2.5480594 ,\n",
      "        2.21826207, 3.62267179, 3.68181181, 1.9300356 , 3.70298458],\n",
      "       [2.01429556, 3.91656849, 2.37993205, 2.01377816, 1.97880282,\n",
      "        1.78369452, 2.77744861, 3.2805834 , 1.72799848, 3.30371267]])\n",
      "Dimensions without coordinates: x, y\n"
     ]
    }
   ],
   "source": [
    "c = xr.apply_ufunc(np.dot, ax, bx)\n",
    "print(c)"
   ]
  },
  {
   "cell_type": "markdown",
   "metadata": {},
   "source": [
    "#### You can see that we calculated the dot product using the numpy function, but the otput is now an `xarray DataArray`"
   ]
  },
  {
   "cell_type": "markdown",
   "metadata": {},
   "source": [
    "### Applying a function along a particular axis\n",
    "\n",
    "The fact that `xr.apply_ufunc` uses the labelling functionality of `xarray` means you can apply functions along particular axes of your data using the names of the dimensions.\n",
    "\n",
    "Here I will apply `np.mean` along the `time` axis of an array as a proof-of-concept, xarray can already do this in a much more simple way but it shows the idea.\n",
    "\n",
    "There is a little added complexity in doing this with `xr.apply_ufunc`, however.The parameters we need to use to do this are `input_core_dims` and `kwargs`.  \n",
    "From the `xarray` documentation:\n",
    " - `input_core_dims`: List of the same length as args giving the list of core dimensions on each input argument that should not be broadcast. By default, we assume there are no core dimensions on any input arguments.\n",
    " - `kwargs`: Optional keyword arguments passed directly on to call func.\n",
    "\n",
    "I found the definition of `input_core_dims` very onfusing, and uses some programming jargon that isn't all that helpful. I'll try to explaing here.\n",
    "`input_core_dims` should be a list (which is made using square brackets in python) that specifies the \"core dimensions\" for the operation. This basically means the names of the dimensions that you want the function to operate on. If the function you're using takes an `axis` argument, this will be the name of the dimension corresponding to the axis you would specify if you were just doing this without `xr.apply_ufunc`.\n",
    "\n",
    "\"broadcasting\" refers to the dimensions that aren't touched by the function you're using. Let's say you want to compute the time-mean of some data that has dimensions of `time, lat, lon`, you would say that the `lat` and `lon` dimensions are 'broadcast' since they are just propagated along as the function is applied to the `time` dimension.\n",
    "\n",
    "`kwargs` just lets you pass keyword arguments (arguments to a function that have a name, e.g., `axis=0`) to the function you're using. However, you need to pass them as a dictionary, so for `axis=0` you would have `kwargs={'axis': 0}`\n",
    "\n",
    "Further, when you specify `input_core_dims`, due to the way `xr.apply_ufunc` works internally, it moves that dimension to the last spot in the order of axes, regardless of where it originally was. This is easiest to explain with an example. Let's say I have some data with time as the first dimension, so that it is in the position `axis=0`. To calculate the mean along the 'time' dimension of some data using straight numpy, I would write:\n",
    "\n",
    "```Python\n",
    "amean = np.mean(a, axis=0)\n",
    "```\n",
    "But to do this using `xr.apply_ufunc` I would have to write:\n",
    "\n",
    "```Python\n",
    "amean = xr.apply_ufunc(np.mean, a, input_core_dims=['time'], kwargs={'axis': -1})\n",
    "```\n",
    "Here I've specified that the dimension of `a` that I want `np.mean` to operate on is `'time'`, and that `np.mean` should do the mean along the last axis, `axis=-1`, since `xarray` will have moved the `'time'` dimension to the end. I do this with some actual data below.\n",
    "\n"
   ]
  },
  {
   "cell_type": "markdown",
   "metadata": {},
   "source": [
    "#### Load some data"
   ]
  },
  {
   "cell_type": "code",
   "execution_count": 5,
   "metadata": {},
   "outputs": [],
   "source": [
    "ddir = '/Users/andrewpauling/Documents/PhD/isotope/data/som'\n",
    "dfile = 'SOMcontrol.cam.h0.TREFHT.000101-006012.nc'\n",
    "ncf = os.path.join(ddir, dfile)\n",
    "ds = xr.open_dataset(ncf)\n",
    "\n",
    "t = ds['TREFHT']"
   ]
  },
  {
   "cell_type": "markdown",
   "metadata": {},
   "source": [
    "#### Now apply `np.mean` along the `time` dimension"
   ]
  },
  {
   "cell_type": "code",
   "execution_count": 10,
   "metadata": {},
   "outputs": [
    {
     "data": {
      "text/html": [
       "<pre>&lt;xarray.DataArray &#x27;TREFHT&#x27; (lat: 192, lon: 288)&gt;\n",
       "array([[226.0095 , 225.89426, 225.9074 , ..., 225.89043, 226.03432,\n",
       "        225.91817],\n",
       "       [226.90445, 226.91637, 226.94075, ..., 226.97292, 227.0847 ,\n",
       "        227.051  ],\n",
       "       [228.1345 , 228.03607, 227.9743 , ..., 228.33913, 228.26515,\n",
       "        228.13881],\n",
       "       ...,\n",
       "       [251.06876, 251.08379, 251.09766, ..., 251.02924, 251.04208,\n",
       "        251.05444],\n",
       "       [250.9783 , 250.98412, 250.98991, ..., 250.95944, 250.96582,\n",
       "        250.97229],\n",
       "       [250.86424, 250.86472, 250.86508, ..., 250.8619 , 250.86281,\n",
       "        250.86339]], dtype=float32)\n",
       "Coordinates:\n",
       "  * lat      (lat) float64 -90.0 -89.06 -88.12 -87.17 ... 87.17 88.12 89.06 90.0\n",
       "  * lon      (lon) float64 0.0 1.25 2.5 3.75 5.0 ... 355.0 356.2 357.5 358.8</pre>"
      ],
      "text/plain": [
       "<xarray.DataArray 'TREFHT' (lat: 192, lon: 288)>\n",
       "array([[226.0095 , 225.89426, 225.9074 , ..., 225.89043, 226.03432,\n",
       "        225.91817],\n",
       "       [226.90445, 226.91637, 226.94075, ..., 226.97292, 227.0847 ,\n",
       "        227.051  ],\n",
       "       [228.1345 , 228.03607, 227.9743 , ..., 228.33913, 228.26515,\n",
       "        228.13881],\n",
       "       ...,\n",
       "       [251.06876, 251.08379, 251.09766, ..., 251.02924, 251.04208,\n",
       "        251.05444],\n",
       "       [250.9783 , 250.98412, 250.98991, ..., 250.95944, 250.96582,\n",
       "        250.97229],\n",
       "       [250.86424, 250.86472, 250.86508, ..., 250.8619 , 250.86281,\n",
       "        250.86339]], dtype=float32)\n",
       "Coordinates:\n",
       "  * lat      (lat) float64 -90.0 -89.06 -88.12 -87.17 ... 87.17 88.12 89.06 90.0\n",
       "  * lon      (lon) float64 0.0 1.25 2.5 3.75 5.0 ... 355.0 356.2 357.5 358.8"
      ]
     },
     "execution_count": 10,
     "metadata": {},
     "output_type": "execute_result"
    }
   ],
   "source": [
    "tmean = xr.apply_ufunc(np.mean, t, input_core_dims=[['time']], kwargs={'axis': -1})\n",
    "tmean"
   ]
  },
  {
   "cell_type": "markdown",
   "metadata": {},
   "source": [
    "#### Here you can see the output has only dimensions of `lat` and `lon`, and we have computed the mean along the `time` dimension`"
   ]
  },
  {
   "cell_type": "markdown",
   "metadata": {},
   "source": [
    "### Using a function with multiple outputs\n",
    "\n",
    "Let's say you have a function with multiple outputs, in the example here I will use `scipy.stats.pearsonr`, which computes the Pearson correlation coefficient between two 1-D datasets. This function outputs the correlation coefficient and the p-value associated with it as two separate outputs. We need to use some more keyword arguments to `xr.apply_ufunc` to do this.\n",
    "\n",
    "Before doing this, we need to make use of the `vectorize` keyword argument to `apply_ufunc`. Reading the documentation for `scipy.stats.pearsonr`, we see that the function is expecting two 1-D arrays as inputs. Here we are giving it 3-D arrays, and we want to vectorize the operation over the other dimensions. Normally you would need to write some kind of horrible loop for this but, with `xr.apply_ufunc`, it is as easy as setting `vectorize=True` in the arguments to `xr.apply_ufunc`.\n",
    "\n",
    "First I will try this naively as in the example for the mean, but with `vectorize=True`:"
   ]
  },
  {
   "cell_type": "code",
   "execution_count": 12,
   "metadata": {},
   "outputs": [],
   "source": [
    "# Load temperature data from two CESM runs\n",
    "ddir = '/Users/andrewpauling/Documents/PhD/isotope/data/som'\n",
    "df1 = 'SOMcontrol.cam.h0.TREFHT.000101-006012.nc'\n",
    "df2 = 'FlatWAIS_0.9h_SOM.cam.h0.TREFHT.000101-006012.nc'\n",
    "nc1 = os.path.join(ddir, df1)\n",
    "nc2 = os.path.join(ddir, df2)\n",
    "ds1 = xr.open_dataset(nc1)\n",
    "ds2 = xr.open_dataset(nc2)\n",
    "\n",
    "t1 = ds1['TREFHT']\n",
    "t2 = ds2['TREFHT']"
   ]
  },
  {
   "cell_type": "code",
   "execution_count": 22,
   "metadata": {},
   "outputs": [
    {
     "ename": "ValueError",
     "evalue": "wrong number of outputs from pyfunc: expected 1, got 2",
     "output_type": "error",
     "traceback": [
      "\u001b[0;31m---------------------------------------------------------------------------\u001b[0m",
      "\u001b[0;31mValueError\u001b[0m                                Traceback (most recent call last)",
      "\u001b[0;32m<ipython-input-22-91a98a44e641>\u001b[0m in \u001b[0;36m<module>\u001b[0;34m\u001b[0m\n\u001b[1;32m      2\u001b[0m \u001b[0;32mfrom\u001b[0m \u001b[0mscipy\u001b[0m\u001b[0;34m.\u001b[0m\u001b[0mstats\u001b[0m \u001b[0;32mimport\u001b[0m \u001b[0mpearsonr\u001b[0m\u001b[0;34m\u001b[0m\u001b[0;34m\u001b[0m\u001b[0m\n\u001b[1;32m      3\u001b[0m \u001b[0;34m\u001b[0m\u001b[0m\n\u001b[0;32m----> 4\u001b[0;31m \u001b[0mr\u001b[0m\u001b[0;34m,\u001b[0m \u001b[0mp\u001b[0m \u001b[0;34m=\u001b[0m \u001b[0mxr\u001b[0m\u001b[0;34m.\u001b[0m\u001b[0mapply_ufunc\u001b[0m\u001b[0;34m(\u001b[0m\u001b[0mpearsonr\u001b[0m\u001b[0;34m,\u001b[0m \u001b[0mt1\u001b[0m\u001b[0;34m,\u001b[0m \u001b[0mt2\u001b[0m\u001b[0;34m,\u001b[0m \u001b[0minput_core_dims\u001b[0m\u001b[0;34m=\u001b[0m\u001b[0;34m[\u001b[0m\u001b[0;34m[\u001b[0m\u001b[0;34m'time'\u001b[0m\u001b[0;34m]\u001b[0m\u001b[0;34m,\u001b[0m \u001b[0;34m[\u001b[0m\u001b[0;34m'time'\u001b[0m\u001b[0;34m]\u001b[0m\u001b[0;34m]\u001b[0m\u001b[0;34m,\u001b[0m \u001b[0mvectorize\u001b[0m\u001b[0;34m=\u001b[0m\u001b[0;32mTrue\u001b[0m\u001b[0;34m)\u001b[0m\u001b[0;34m\u001b[0m\u001b[0;34m\u001b[0m\u001b[0m\n\u001b[0m",
      "\u001b[0;32m~/anaconda3/envs/iceenv/lib/python3.7/site-packages/xarray/core/computation.py\u001b[0m in \u001b[0;36mapply_ufunc\u001b[0;34m(func, input_core_dims, output_core_dims, exclude_dims, vectorize, join, dataset_join, dataset_fill_value, keep_attrs, kwargs, dask, output_dtypes, output_sizes, *args)\u001b[0m\n\u001b[1;32m   1040\u001b[0m             \u001b[0mjoin\u001b[0m\u001b[0;34m=\u001b[0m\u001b[0mjoin\u001b[0m\u001b[0;34m,\u001b[0m\u001b[0;34m\u001b[0m\u001b[0;34m\u001b[0m\u001b[0m\n\u001b[1;32m   1041\u001b[0m             \u001b[0mexclude_dims\u001b[0m\u001b[0;34m=\u001b[0m\u001b[0mexclude_dims\u001b[0m\u001b[0;34m,\u001b[0m\u001b[0;34m\u001b[0m\u001b[0;34m\u001b[0m\u001b[0m\n\u001b[0;32m-> 1042\u001b[0;31m             \u001b[0mkeep_attrs\u001b[0m\u001b[0;34m=\u001b[0m\u001b[0mkeep_attrs\u001b[0m\u001b[0;34m,\u001b[0m\u001b[0;34m\u001b[0m\u001b[0;34m\u001b[0m\u001b[0m\n\u001b[0m\u001b[1;32m   1043\u001b[0m         )\n\u001b[1;32m   1044\u001b[0m     \u001b[0;32melif\u001b[0m \u001b[0many\u001b[0m\u001b[0;34m(\u001b[0m\u001b[0misinstance\u001b[0m\u001b[0;34m(\u001b[0m\u001b[0ma\u001b[0m\u001b[0;34m,\u001b[0m \u001b[0mVariable\u001b[0m\u001b[0;34m)\u001b[0m \u001b[0;32mfor\u001b[0m \u001b[0ma\u001b[0m \u001b[0;32min\u001b[0m \u001b[0margs\u001b[0m\u001b[0;34m)\u001b[0m\u001b[0;34m:\u001b[0m\u001b[0;34m\u001b[0m\u001b[0;34m\u001b[0m\u001b[0m\n",
      "\u001b[0;32m~/anaconda3/envs/iceenv/lib/python3.7/site-packages/xarray/core/computation.py\u001b[0m in \u001b[0;36mapply_dataarray_vfunc\u001b[0;34m(func, signature, join, exclude_dims, keep_attrs, *args)\u001b[0m\n\u001b[1;32m    230\u001b[0m \u001b[0;34m\u001b[0m\u001b[0m\n\u001b[1;32m    231\u001b[0m     \u001b[0mdata_vars\u001b[0m \u001b[0;34m=\u001b[0m \u001b[0;34m[\u001b[0m\u001b[0mgetattr\u001b[0m\u001b[0;34m(\u001b[0m\u001b[0ma\u001b[0m\u001b[0;34m,\u001b[0m \u001b[0;34m\"variable\"\u001b[0m\u001b[0;34m,\u001b[0m \u001b[0ma\u001b[0m\u001b[0;34m)\u001b[0m \u001b[0;32mfor\u001b[0m \u001b[0ma\u001b[0m \u001b[0;32min\u001b[0m \u001b[0margs\u001b[0m\u001b[0;34m]\u001b[0m\u001b[0;34m\u001b[0m\u001b[0;34m\u001b[0m\u001b[0m\n\u001b[0;32m--> 232\u001b[0;31m     \u001b[0mresult_var\u001b[0m \u001b[0;34m=\u001b[0m \u001b[0mfunc\u001b[0m\u001b[0;34m(\u001b[0m\u001b[0;34m*\u001b[0m\u001b[0mdata_vars\u001b[0m\u001b[0;34m)\u001b[0m\u001b[0;34m\u001b[0m\u001b[0;34m\u001b[0m\u001b[0m\n\u001b[0m\u001b[1;32m    233\u001b[0m \u001b[0;34m\u001b[0m\u001b[0m\n\u001b[1;32m    234\u001b[0m     \u001b[0;32mif\u001b[0m \u001b[0msignature\u001b[0m\u001b[0;34m.\u001b[0m\u001b[0mnum_outputs\u001b[0m \u001b[0;34m>\u001b[0m \u001b[0;36m1\u001b[0m\u001b[0;34m:\u001b[0m\u001b[0;34m\u001b[0m\u001b[0;34m\u001b[0m\u001b[0m\n",
      "\u001b[0;32m~/anaconda3/envs/iceenv/lib/python3.7/site-packages/xarray/core/computation.py\u001b[0m in \u001b[0;36mapply_variable_ufunc\u001b[0;34m(func, signature, exclude_dims, dask, output_dtypes, output_sizes, keep_attrs, *args)\u001b[0m\n\u001b[1;32m    599\u001b[0m                 \u001b[0;34m\"apply_ufunc: {}\"\u001b[0m\u001b[0;34m.\u001b[0m\u001b[0mformat\u001b[0m\u001b[0;34m(\u001b[0m\u001b[0mdask\u001b[0m\u001b[0;34m)\u001b[0m\u001b[0;34m\u001b[0m\u001b[0;34m\u001b[0m\u001b[0m\n\u001b[1;32m    600\u001b[0m             )\n\u001b[0;32m--> 601\u001b[0;31m     \u001b[0mresult_data\u001b[0m \u001b[0;34m=\u001b[0m \u001b[0mfunc\u001b[0m\u001b[0;34m(\u001b[0m\u001b[0;34m*\u001b[0m\u001b[0minput_data\u001b[0m\u001b[0;34m)\u001b[0m\u001b[0;34m\u001b[0m\u001b[0;34m\u001b[0m\u001b[0m\n\u001b[0m\u001b[1;32m    602\u001b[0m \u001b[0;34m\u001b[0m\u001b[0m\n\u001b[1;32m    603\u001b[0m     \u001b[0;32mif\u001b[0m \u001b[0msignature\u001b[0m\u001b[0;34m.\u001b[0m\u001b[0mnum_outputs\u001b[0m \u001b[0;34m==\u001b[0m \u001b[0;36m1\u001b[0m\u001b[0;34m:\u001b[0m\u001b[0;34m\u001b[0m\u001b[0;34m\u001b[0m\u001b[0m\n",
      "\u001b[0;32m~/anaconda3/envs/iceenv/lib/python3.7/site-packages/numpy/lib/function_base.py\u001b[0m in \u001b[0;36m__call__\u001b[0;34m(self, *args, **kwargs)\u001b[0m\n\u001b[1;32m   2089\u001b[0m             \u001b[0mvargs\u001b[0m\u001b[0;34m.\u001b[0m\u001b[0mextend\u001b[0m\u001b[0;34m(\u001b[0m\u001b[0;34m[\u001b[0m\u001b[0mkwargs\u001b[0m\u001b[0;34m[\u001b[0m\u001b[0m_n\u001b[0m\u001b[0;34m]\u001b[0m \u001b[0;32mfor\u001b[0m \u001b[0m_n\u001b[0m \u001b[0;32min\u001b[0m \u001b[0mnames\u001b[0m\u001b[0;34m]\u001b[0m\u001b[0;34m)\u001b[0m\u001b[0;34m\u001b[0m\u001b[0;34m\u001b[0m\u001b[0m\n\u001b[1;32m   2090\u001b[0m \u001b[0;34m\u001b[0m\u001b[0m\n\u001b[0;32m-> 2091\u001b[0;31m         \u001b[0;32mreturn\u001b[0m \u001b[0mself\u001b[0m\u001b[0;34m.\u001b[0m\u001b[0m_vectorize_call\u001b[0m\u001b[0;34m(\u001b[0m\u001b[0mfunc\u001b[0m\u001b[0;34m=\u001b[0m\u001b[0mfunc\u001b[0m\u001b[0;34m,\u001b[0m \u001b[0margs\u001b[0m\u001b[0;34m=\u001b[0m\u001b[0mvargs\u001b[0m\u001b[0;34m)\u001b[0m\u001b[0;34m\u001b[0m\u001b[0;34m\u001b[0m\u001b[0m\n\u001b[0m\u001b[1;32m   2092\u001b[0m \u001b[0;34m\u001b[0m\u001b[0m\n\u001b[1;32m   2093\u001b[0m     \u001b[0;32mdef\u001b[0m \u001b[0m_get_ufunc_and_otypes\u001b[0m\u001b[0;34m(\u001b[0m\u001b[0mself\u001b[0m\u001b[0;34m,\u001b[0m \u001b[0mfunc\u001b[0m\u001b[0;34m,\u001b[0m \u001b[0margs\u001b[0m\u001b[0;34m)\u001b[0m\u001b[0;34m:\u001b[0m\u001b[0;34m\u001b[0m\u001b[0;34m\u001b[0m\u001b[0m\n",
      "\u001b[0;32m~/anaconda3/envs/iceenv/lib/python3.7/site-packages/numpy/lib/function_base.py\u001b[0m in \u001b[0;36m_vectorize_call\u001b[0;34m(self, func, args)\u001b[0m\n\u001b[1;32m   2155\u001b[0m         \u001b[0;34m\"\"\"Vectorized call to `func` over positional `args`.\"\"\"\u001b[0m\u001b[0;34m\u001b[0m\u001b[0;34m\u001b[0m\u001b[0m\n\u001b[1;32m   2156\u001b[0m         \u001b[0;32mif\u001b[0m \u001b[0mself\u001b[0m\u001b[0;34m.\u001b[0m\u001b[0msignature\u001b[0m \u001b[0;32mis\u001b[0m \u001b[0;32mnot\u001b[0m \u001b[0;32mNone\u001b[0m\u001b[0;34m:\u001b[0m\u001b[0;34m\u001b[0m\u001b[0;34m\u001b[0m\u001b[0m\n\u001b[0;32m-> 2157\u001b[0;31m             \u001b[0mres\u001b[0m \u001b[0;34m=\u001b[0m \u001b[0mself\u001b[0m\u001b[0;34m.\u001b[0m\u001b[0m_vectorize_call_with_signature\u001b[0m\u001b[0;34m(\u001b[0m\u001b[0mfunc\u001b[0m\u001b[0;34m,\u001b[0m \u001b[0margs\u001b[0m\u001b[0;34m)\u001b[0m\u001b[0;34m\u001b[0m\u001b[0;34m\u001b[0m\u001b[0m\n\u001b[0m\u001b[1;32m   2158\u001b[0m         \u001b[0;32melif\u001b[0m \u001b[0;32mnot\u001b[0m \u001b[0margs\u001b[0m\u001b[0;34m:\u001b[0m\u001b[0;34m\u001b[0m\u001b[0;34m\u001b[0m\u001b[0m\n\u001b[1;32m   2159\u001b[0m             \u001b[0mres\u001b[0m \u001b[0;34m=\u001b[0m \u001b[0mfunc\u001b[0m\u001b[0;34m(\u001b[0m\u001b[0;34m)\u001b[0m\u001b[0;34m\u001b[0m\u001b[0;34m\u001b[0m\u001b[0m\n",
      "\u001b[0;32m~/anaconda3/envs/iceenv/lib/python3.7/site-packages/numpy/lib/function_base.py\u001b[0m in \u001b[0;36m_vectorize_call_with_signature\u001b[0;34m(self, func, args)\u001b[0m\n\u001b[1;32m   2203\u001b[0m                 raise ValueError(\n\u001b[1;32m   2204\u001b[0m                     \u001b[0;34m'wrong number of outputs from pyfunc: expected %r, got %r'\u001b[0m\u001b[0;34m\u001b[0m\u001b[0;34m\u001b[0m\u001b[0m\n\u001b[0;32m-> 2205\u001b[0;31m                     % (nout, n_results))\n\u001b[0m\u001b[1;32m   2206\u001b[0m \u001b[0;34m\u001b[0m\u001b[0m\n\u001b[1;32m   2207\u001b[0m             \u001b[0;32mif\u001b[0m \u001b[0mnout\u001b[0m \u001b[0;34m==\u001b[0m \u001b[0;36m1\u001b[0m\u001b[0;34m:\u001b[0m\u001b[0;34m\u001b[0m\u001b[0;34m\u001b[0m\u001b[0m\n",
      "\u001b[0;31mValueError\u001b[0m: wrong number of outputs from pyfunc: expected 1, got 2"
     ]
    }
   ],
   "source": [
    "# Try and compute the Pearson correlation coefficient and p-value naively\n",
    "from scipy.stats import pearsonr\n",
    "\n",
    "r, p = xr.apply_ufunc(pearsonr, t1, t2, input_core_dims=[['time'], ['time']], vectorize=True)"
   ]
  },
  {
   "cell_type": "markdown",
   "metadata": {},
   "source": [
    "#### `xr.apply_ufunc` is complaining that the number of outputs doesn't match what it is expecting, but the solution can be found in the description of the `output_core_dims` parameter\n",
    "\n",
    " - `output-core_dims`: List of the same length as the number of output arguments from func, giving the list of core dimensions on each output that were not broadcast on the inputs. By default, we assume that func outputs exactly one array, with axes corresponding to each broadcast dimension.\n",
    " \n",
    "This is a horrible piece of documentation, and it took me a while to understand what it meant. Basically it is saying that by default, `xr.apply_ufunc` assumes that your function outputs only one array, so you need to use this parameter if it outputs more that one. You need to specify a list, like for `input_core_dims`, that is the same length as the numver of outputs your function gives. This list needs to contain the names of the dimensions of the output that contain the result of the function, and should not include the dimensions that were 'broadcast' (`lat` and `lon` in our case).\n",
    " \n",
    "In the example here, `pearsonr` computes one number, either the correlation coefficient or the p-value, for the `time` dimension of the input. So, the `input_core_dims` is `time`, but there is no `time` dimension in the output. It is slightly non-intuitive, but here the `output_core_dims` are empty, since the only dimensions left on the output are the broadcast ones, `lat` and `lon`. However, we still need to specify them so that `xr.apply_ufunc` knows to expect two output arrays."
   ]
  },
  {
   "cell_type": "code",
   "execution_count": 25,
   "metadata": {},
   "outputs": [
    {
     "name": "stdout",
     "output_type": "stream",
     "text": [
      "<xarray.DataArray 'pearsonr' (lat: 192, lon: 288)>\n",
      "array([[0.93297005, 0.93323749, 0.93315376, ..., 0.9329198 , 0.93373975,\n",
      "        0.93339765],\n",
      "       [0.92871506, 0.92967016, 0.92934524, ..., 0.92776625, 0.92966938,\n",
      "        0.92967499],\n",
      "       [0.92793594, 0.92812452, 0.9279082 , ..., 0.92776186, 0.92775376,\n",
      "        0.92775859],\n",
      "       ...,\n",
      "       [0.95526942, 0.95504774, 0.95484223, ..., 0.95585796, 0.95566546,\n",
      "        0.95548273],\n",
      "       [0.95874174, 0.95866613, 0.95858926, ..., 0.95900447, 0.95891289,\n",
      "        0.95882423],\n",
      "       [0.96143195, 0.96142265, 0.96141417, ..., 0.96146581, 0.96145341,\n",
      "        0.96144218]])\n",
      "Coordinates:\n",
      "  * lat      (lat) float64 -90.0 -89.06 -88.12 -87.17 ... 87.17 88.12 89.06 90.0\n",
      "  * lon      (lon) float64 0.0 1.25 2.5 3.75 5.0 ... 355.0 356.2 357.5 358.8\n",
      "<xarray.DataArray 'p-value' (lat: 192, lon: 288)>\n",
      "array([[7.74694933e-321, 1.93673733e-321, 2.99403781e-321, ...,\n",
      "        1.00492952e-320, 1.38338381e-322, 8.39911598e-322],\n",
      "       [1.39056301e-311, 1.30876767e-313, 6.44761964e-313, ...,\n",
      "        1.34407181e-309, 1.31377726e-313, 1.27801409e-313],\n",
      "       [5.96172108e-310, 2.40998408e-310, 6.81003330e-310, ...,\n",
      "        1.37259568e-309, 1.42687275e-309, 1.39424375e-309],\n",
      "       ...,\n",
      "       [0.00000000e+000, 0.00000000e+000, 0.00000000e+000, ...,\n",
      "        0.00000000e+000, 0.00000000e+000, 0.00000000e+000],\n",
      "       [0.00000000e+000, 0.00000000e+000, 0.00000000e+000, ...,\n",
      "        0.00000000e+000, 0.00000000e+000, 0.00000000e+000],\n",
      "       [0.00000000e+000, 0.00000000e+000, 0.00000000e+000, ...,\n",
      "        0.00000000e+000, 0.00000000e+000, 0.00000000e+000]])\n",
      "Coordinates:\n",
      "  * lat      (lat) float64 -90.0 -89.06 -88.12 -87.17 ... 87.17 88.12 89.06 90.0\n",
      "  * lon      (lon) float64 0.0 1.25 2.5 3.75 5.0 ... 355.0 356.2 357.5 358.8\n"
     ]
    }
   ],
   "source": [
    "# Try and compute the Pearson correlation coefficient and p-value with output_core_dims and vectorize specified\n",
    "from scipy.stats import pearsonr\n",
    "\n",
    "r, p = xr.apply_ufunc(pearsonr, t1, t2,\n",
    "                      input_core_dims=[['time'], ['time']],\n",
    "                      output_core_dims=[[], []],\n",
    "                      vectorize=True)\n",
    "# Rename the dataarrays to what they really are\n",
    "r = r.rename('pearsonr')\n",
    "p = p.rename('p-value')\n",
    "print(r)\n",
    "print(p)"
   ]
  },
  {
   "cell_type": "markdown",
   "metadata": {},
   "source": [
    "#### Great! Now we can apply functions that usually operate over 1 dimension and vectorize them over many dimensions. "
   ]
  },
  {
   "cell_type": "markdown",
   "metadata": {},
   "source": [
    "### Another example\n",
    "Here I'll do the same thing with a two-tailed t-test, which takes two input arrays of arbitrary dimension and computes the t-statistic and p-value along a given axis. \n",
    "\n",
    "Since we're specifying the axis, and the function can take inputs of arbitrary dimension, we can drop the `vectorize=True` parameter, which would actually slow us down here. \n",
    "\n",
    "I need to specify that I want the t-test done in time, which will be `axis=-1` as discussed earlier, and specify `output_core_dims` as empty again, since both the t-statistic and p-value are single values."
   ]
  },
  {
   "cell_type": "code",
   "execution_count": 29,
   "metadata": {},
   "outputs": [
    {
     "name": "stdout",
     "output_type": "stream",
     "text": [
      "<xarray.DataArray 'tstat' (lat: 192, lon: 288)>\n",
      "array([[-2.9154174 , -3.3584416 , -3.3245826 , ..., -3.32598   ,\n",
      "        -3.0694916 , -3.2875178 ],\n",
      "       [-3.7587583 , -3.778247  , -3.5847147 , ..., -3.6419113 ,\n",
      "        -3.4422603 , -3.4991112 ],\n",
      "       [-4.197319  , -4.141154  , -4.0418615 , ..., -4.35411   ,\n",
      "        -4.3025208 , -4.2976804 ],\n",
      "       ...,\n",
      "       [-0.37101236, -0.37451878, -0.37831014, ..., -0.3607708 ,\n",
      "        -0.36446708, -0.367702  ],\n",
      "       [-0.35047618, -0.35166636, -0.35283443, ..., -0.34686038,\n",
      "        -0.34801093, -0.34909922],\n",
      "       [-0.32299632, -0.3232517 , -0.32352874, ..., -0.32309517,\n",
      "        -0.32297406, -0.32318684]], dtype=float32)\n",
      "Coordinates:\n",
      "  * lat      (lat) float64 -90.0 -89.06 -88.12 -87.17 ... 87.17 88.12 89.06 90.0\n",
      "  * lon      (lon) float64 0.0 1.25 2.5 3.75 5.0 ... 355.0 356.2 357.5 358.8\n",
      "<xarray.DataArray 'pvalue' (lat: 192, lon: 288)>\n",
      "array([[3.60715560e-03, 8.04326698e-04, 9.07800530e-04, ...,\n",
      "        9.03296583e-04, 2.18436050e-03, 1.03514721e-03],\n",
      "       [1.77595287e-04, 1.64385602e-04, 3.48726971e-04, ...,\n",
      "        2.80227651e-04, 5.93420522e-04, 4.81053238e-04],\n",
      "       [2.86649579e-05, 3.65662776e-05, 5.58357076e-05, ...,\n",
      "        1.43062965e-05, 1.80268887e-05, 1.84198341e-05],\n",
      "       ...,\n",
      "       [7.10682975e-01, 7.08073606e-01, 7.05256050e-01, ...,\n",
      "        7.18323788e-01, 7.15562836e-01, 7.13149555e-01],\n",
      "       [7.26032698e-01, 7.25140013e-01, 7.24264278e-01, ...,\n",
      "        7.28746965e-01, 7.27882913e-01, 7.27065933e-01],\n",
      "       [7.46744990e-01, 7.46551634e-01, 7.46341891e-01, ...,\n",
      "        7.46670141e-01, 7.46761846e-01, 7.46600733e-01]])\n",
      "Coordinates:\n",
      "  * lat      (lat) float64 -90.0 -89.06 -88.12 -87.17 ... 87.17 88.12 89.06 90.0\n",
      "  * lon      (lon) float64 0.0 1.25 2.5 3.75 5.0 ... 355.0 356.2 357.5 358.8\n"
     ]
    }
   ],
   "source": [
    "from scipy.stats import ttest_ind\n",
    "\n",
    "t, p = xr.apply_ufunc(ttest_ind, t1, t2,\n",
    "                      input_core_dims=[['time'], ['time']],\n",
    "                     output_core_dims=[[], []],\n",
    "                     kwargs={'axis': -1})\n",
    "\n",
    "t = t.rename('tstat')\n",
    "p = p.rename('pvalue')\n",
    "\n",
    "print(t)\n",
    "print(p)"
   ]
  },
  {
   "cell_type": "markdown",
   "metadata": {},
   "source": [
    "#### Success!"
   ]
  },
  {
   "cell_type": "markdown",
   "metadata": {},
   "source": [
    "#### If there are more examples you'd like or if something doesn't make sense, please let me know. There are more examples on the `xarray` documentation website, I just thought this particular use case was poorly documented"
   ]
  },
  {
   "cell_type": "code",
   "execution_count": null,
   "metadata": {},
   "outputs": [],
   "source": []
  }
 ],
 "metadata": {
  "kernelspec": {
   "display_name": "Python 3",
   "language": "python",
   "name": "python3"
  },
  "language_info": {
   "codemirror_mode": {
    "name": "ipython",
    "version": 3
   },
   "file_extension": ".py",
   "mimetype": "text/x-python",
   "name": "python",
   "nbconvert_exporter": "python",
   "pygments_lexer": "ipython3",
   "version": "3.7.6"
  }
 },
 "nbformat": 4,
 "nbformat_minor": 4
}
