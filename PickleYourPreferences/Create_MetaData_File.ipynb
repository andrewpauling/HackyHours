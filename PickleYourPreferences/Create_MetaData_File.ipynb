{
 "cells": [
  {
   "cell_type": "code",
   "execution_count": 1,
   "metadata": {},
   "outputs": [],
   "source": [
    "'''\n",
    "\n",
    "This code is ...\n",
    "\n",
    "\n",
    "'''\n",
    "\n",
    "import os\n",
    "import xarray as xr\n",
    "import numpy as np\n",
    "import pickle\n",
    "import CMIP6Data as ed\n",
    "import itertools\n",
    "import seaborn as sns"
   ]
  },
  {
   "cell_type": "code",
   "execution_count": 4,
   "metadata": {},
   "outputs": [],
   "source": [
    "# Update your paths here\n",
    "my_metadata_dir = '.' \n",
    "\n",
    "shared_dir='/glade/collections/cmip/CMIP6/CMIP/'\n",
    "my_scratch='/glade/scratch/bitz/cmip6/'\n"
   ]
  },
  {
   "cell_type": "code",
   "execution_count": null,
   "metadata": {},
   "outputs": [],
   "source": []
  },
  {
   "cell_type": "code",
   "execution_count": 5,
   "metadata": {},
   "outputs": [],
   "source": [
    "shared_dir='/glade/collections/cmip/CMIP6/CMIP/'\n",
    "my_scratch='/glade/scratch/bitz/cmip6/'\n",
    "# just make a list of models in my_scratch\n",
    "# no harm in putting more here than are there\n",
    "my_models = ['HadGEM3-GC31-LL', 'EC-Earth3-Veg', 'EC-Earth3',\n",
    "      'CAMS-CSM1-0']  #'E3SM-1-0']\n",
    "\n",
    "main_models = ['CESM2','CESM2-WACCM','BCC-CSM2-MR','BCC-ESM1',\n",
    "               'CanESM5','CNRM-ESM2-1','IPSL-CM6A-LR',\n",
    "               'GFDL-CM4','EC-Earth3-LR']  # 'UKESM1-0-LL','GISS-E2-1-H','MIROC6','SAM0-UNICON',"
   ]
  },
  {
   "cell_type": "code",
   "execution_count": 6,
   "metadata": {},
   "outputs": [],
   "source": [
    "# Create the MetaData class by calling python program CMIP6Data which has been imported as ed \n",
    "E = ed.MetaData(main_dir = shared_dir, my_dir = my_scratch)  # E is an object\n",
    "E.main_models = main_models\n",
    "E.my_models = my_models\n"
   ]
  },
  {
   "cell_type": "code",
   "execution_count": 7,
   "metadata": {},
   "outputs": [],
   "source": [
    "E.add_main_model(mod_name=main_models[0],center='NCAR')\n",
    "E.add_main_model(mod_name=main_models[1],center='NCAR')\n",
    "E.add_main_model(mod_name=main_models[2],center='BCC', sicvar='siitdconc')\n",
    "E.add_main_model(mod_name=main_models[3],center='BCC', sicvar='siitdconc')\n",
    "\n",
    "E.add_main_model(mod_name=main_models[4],center='CCCma',runn=['r1i1p1f1','r1i1p2f1'],volvar='simass')\n",
    "E.add_main_model(mod_name=main_models[5],center='CNRM-CERFACS',runn=['r1i1p1f2'])\n",
    "E.add_main_model(mod_name=main_models[6],center='IPSL',runn=['r1i1p1f1','r1i2p1f1'])\n",
    "\n",
    "E.add_main_model(mod_name=main_models[7],center = 'NOAA-GFDL',grid='gr')\n",
    "E.add_main_model(mod_name=main_models[8],center='EC-Earth-Consortium')\n",
    "\n",
    "#E.add_main_model(mod_name=main_models[9],center = 'NASA-GISS', grid='gr')\n",
    "#E.add_main_model(mod_name=main_models[7],center='MIROC',volvar='simass')\n",
    "#E.add_main_model(mod_name=main_models[7],center='MOHC',runn=['r1i1p1f2'])\n",
    "#E.add_main_model(mod_name=main_models[],center = 'SNU')\n",
    "\n",
    "\n",
    "\n"
   ]
  },
  {
   "cell_type": "code",
   "execution_count": 8,
   "metadata": {},
   "outputs": [],
   "source": [
    "E.add_my_model(mod_name=my_models[0])\n",
    "E.add_my_model(mod_name=my_models[1])\n",
    "E.add_my_model(mod_name=my_models[2])\n",
    "E.add_my_model(mod_name=my_models[3])\n",
    "#E.add_my_model(mod_name=my_models[4])\n"
   ]
  },
  {
   "cell_type": "code",
   "execution_count": 9,
   "metadata": {},
   "outputs": [
    {
     "name": "stdout",
     "output_type": "stream",
     "text": [
      "{'dir': '/glade/collections/cmip/CMIP6/CMIP/NCAR/CESM2', 'grid': 'gn', 'runn': ['r1i1p1f1'], 'sicvar': 'siconc', 'volvar': 'sivol', 'mldvar': 'mlotst', 'center': 'NCAR', 'label': 'CESM2'}\n"
     ]
    }
   ],
   "source": [
    "print(E.model['CESM2'])"
   ]
  },
  {
   "cell_type": "code",
   "execution_count": null,
   "metadata": {},
   "outputs": [],
   "source": []
  },
  {
   "cell_type": "code",
   "execution_count": 10,
   "metadata": {},
   "outputs": [],
   "source": [
    "# can add other info e.g.\n",
    "#E.fig_dir = public_html_fig   # can be a dict too as in {name: var, etc, etc}"
   ]
  },
  {
   "cell_type": "code",
   "execution_count": 11,
   "metadata": {},
   "outputs": [
    {
     "data": {
      "text/plain": [
       "dict_keys(['CESM2', 'CESM2-WACCM', 'BCC-CSM2-MR', 'BCC-ESM1', 'CanESM5', 'CNRM-ESM2-1', 'IPSL-CM6A-LR', 'GFDL-CM4', 'EC-Earth3-LR', 'HadGEM3-GC31-LL', 'EC-Earth3-Veg', 'EC-Earth3', 'CAMS-CSM1-0'])"
      ]
     },
     "execution_count": 11,
     "metadata": {},
     "output_type": "execute_result"
    }
   ],
   "source": [
    "E.model.keys()"
   ]
  },
  {
   "cell_type": "code",
   "execution_count": null,
   "metadata": {},
   "outputs": [],
   "source": []
  },
  {
   "cell_type": "code",
   "execution_count": 12,
   "metadata": {},
   "outputs": [
    {
     "data": {
      "text/plain": [
       "[('CESM2', 'CESM2'),\n",
       " ('CESM2-WACCM', 'CESM2-WACCM'),\n",
       " ('BCC-CSM2-MR', 'BCC-CSM2-MR'),\n",
       " ('BCC-ESM1', 'BCC-ESM1'),\n",
       " ('CanESM5', 'CanESM5'),\n",
       " ('CNRM-ESM2-1', 'CNRM-ESM2-1'),\n",
       " ('IPSL-CM6A-LR', 'IPSL-CM6A-LR'),\n",
       " ('GFDL-CM4', 'GFDL-CM4'),\n",
       " ('EC-Earth3-LR', 'EC-Earth3-LR'),\n",
       " ('HadGEM3-GC31-LL', 'HadGEM3-GC31-LL'),\n",
       " ('EC-Earth3-Veg', 'EC-Earth3-Veg'),\n",
       " ('EC-Earth3', 'EC-Earth3'),\n",
       " ('CAMS-CSM1-0', 'CAMS-CSM1-0')]"
      ]
     },
     "execution_count": 12,
     "metadata": {},
     "output_type": "execute_result"
    }
   ],
   "source": [
    "list(zip([E.model[x]['label'] for x in E.model.keys()], E.model.keys()))"
   ]
  },
  {
   "cell_type": "code",
   "execution_count": null,
   "metadata": {},
   "outputs": [],
   "source": []
  },
  {
   "cell_type": "code",
   "execution_count": 13,
   "metadata": {},
   "outputs": [
    {
     "name": "stdout",
     "output_type": "stream",
     "text": [
      "Saving to  .\n"
     ]
    }
   ],
   "source": [
    "# Save to metadata to dir\n",
    "print(\"Saving to \", my_metadata_dir)\n",
    "E.save()"
   ]
  },
  {
   "cell_type": "code",
   "execution_count": 14,
   "metadata": {},
   "outputs": [],
   "source": [
    "# # Load object to test\n",
    "E = None\n",
    "E = ed.MetaData.load()\n"
   ]
  },
  {
   "cell_type": "code",
   "execution_count": 15,
   "metadata": {},
   "outputs": [
    {
     "data": {
      "text/plain": [
       "dict_keys(['CESM2', 'CESM2-WACCM', 'BCC-CSM2-MR', 'BCC-ESM1', 'CanESM5', 'CNRM-ESM2-1', 'IPSL-CM6A-LR', 'GFDL-CM4', 'EC-Earth3-LR', 'HadGEM3-GC31-LL', 'EC-Earth3-Veg', 'EC-Earth3', 'CAMS-CSM1-0'])"
      ]
     },
     "execution_count": 15,
     "metadata": {},
     "output_type": "execute_result"
    }
   ],
   "source": [
    "E.model.keys()"
   ]
  },
  {
   "cell_type": "code",
   "execution_count": null,
   "metadata": {},
   "outputs": [],
   "source": []
  },
  {
   "cell_type": "code",
   "execution_count": null,
   "metadata": {},
   "outputs": [],
   "source": []
  },
  {
   "cell_type": "code",
   "execution_count": null,
   "metadata": {},
   "outputs": [],
   "source": []
  },
  {
   "cell_type": "code",
   "execution_count": null,
   "metadata": {},
   "outputs": [],
   "source": []
  }
 ],
 "metadata": {
  "kernelspec": {
   "display_name": "Python 3",
   "language": "python",
   "name": "python3"
  },
  "language_info": {
   "codemirror_mode": {
    "name": "ipython",
    "version": 3
   },
   "file_extension": ".py",
   "mimetype": "text/x-python",
   "name": "python",
   "nbconvert_exporter": "python",
   "pygments_lexer": "ipython3",
   "version": "3.6.4"
  }
 },
 "nbformat": 4,
 "nbformat_minor": 2
}
