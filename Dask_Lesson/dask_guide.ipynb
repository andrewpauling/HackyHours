{
 "cells": [
  {
   "cell_type": "markdown",
   "metadata": {},
   "source": [
    "## Working with Dask on Cheyenne"
   ]
  },
  {
   "cell_type": "markdown",
   "metadata": {},
   "source": [
    "### Here I'll make a guide to using dask on Cheyenne, the way I use it at least, and some tools to make it more friendly"
   ]
  },
  {
   "cell_type": "markdown",
   "metadata": {},
   "source": [
    "### Dask installation\n",
    "I'll assume you have an Anaconda environment set up on Cheyenne with dask and dask_jobqueue installed. If your environment doesn't have these, here is how to install them:\n",
    ">```conda install -c conda-forge dask dask-jobqueue```"
   ]
  },
  {
   "cell_type": "markdown",
   "metadata": {},
   "source": [
    "### dask_labextension\n",
    "Next, I'll make use of the really nice dask-labextension tool for Jupyter Lab. This lets you monitor the progress of your computation from within Jupyter. It takes a bit of set up, but you only need to do it once. I'll walk through it here"
   ]
  },
  {
   "cell_type": "markdown",
   "metadata": {},
   "source": [
    "dask_labextension requires nodejs. By default, conda installs a version that is too old. But, you can make it install the right one by typing:\n",
    ">```conda install -c conda-forge nodejs --repodata-fn=repodata.json```"
   ]
  },
  {
   "cell_type": "markdown",
   "metadata": {},
   "source": [
    "You can then install dask_labextension by typing:\n",
    ">```conda install -c conda-forge dask-labextension```"
   ]
  },
  {
   "cell_type": "markdown",
   "metadata": {},
   "source": [
    "You then need to enable the extension in JupyterLab, which is achieved by typing:\n",
    ">```jupyter labextension install dask-labextension```  \n",
    ">```jupyter serverextension enable dask_labextension```  \n",
    "\n",
    "Note the first command has a hypen in dask-labextension, while the second uses an underscore."
   ]
  },
  {
   "cell_type": "markdown",
   "metadata": {},
   "source": [
    "Finally, we need to edit one config file to allow dask dashboard to be accessible through the same ssh tunnell as JupyterLab\n",
    "This is achieved by editing the file `~/.config/dask/distributed.yaml`. Find the following section:\n",
    "```\n",
    "\n",
    "#   ###################  \n",
    "#   # Bokeh dashboard #  \n",
    "#   ###################  \n",
    "\n",
    "#   dashboard:\n",
    "#     link: \"http://{host}:{port}/status\"\n",
    "#     export-tool: False\n",
    "\n",
    "```\n",
    "then uncomment and edit the second to last line to make the section read:\n",
    "```\n",
    "\n",
    "#   ###################  \n",
    "#   # Bokeh dashboard #  \n",
    "#   ###################  \n",
    "\n",
    "#   dashboard:\n",
    "      link: \"/proxy/{port}/status\"\n",
    "#     export-tool: False\n",
    "\n",
    "```"
   ]
  },
  {
   "cell_type": "markdown",
   "metadata": {},
   "source": [
    "### Using dask-labextension in JupyterLab"
   ]
  },
  {
   "cell_type": "markdown",
   "metadata": {},
   "source": [
    "Now that it's installed, dask-labextension will appear as a button in the vertical toolbar on the far left of JupyterLab.\n",
    "If you click on it, it will pull up a pane like this:\n",
    "\n",
    "<img src=\"dask_pane.png\" width =\"250\" >"
   ]
  },
  {
   "cell_type": "markdown",
   "metadata": {},
   "source": [
    "To start a dask cluster on Casper, do the following:"
   ]
  },
  {
   "cell_type": "code",
   "execution_count": 2,
   "metadata": {},
   "outputs": [
    {
     "name": "stderr",
     "output_type": "stream",
     "text": [
      "/glade/u/home/apauling/miniconda3/envs/isotope/lib/python3.6/importlib/_bootstrap.py:219: RuntimeWarning: numpy.ufunc size changed, may indicate binary incompatibility. Expected 192 from C header, got 216 from PyObject\n",
      "  return f(*args, **kwds)\n"
     ]
    },
    {
     "data": {
      "text/html": [
       "<table style=\"border: 2px solid white;\">\n",
       "<tr>\n",
       "<td style=\"vertical-align: top; border: 0px solid white\">\n",
       "<h3 style=\"text-align: left;\">Client</h3>\n",
       "<ul style=\"text-align: left; list-style: none; margin: 0; padding: 0;\">\n",
       "  <li><b>Scheduler: </b>tcp://10.12.205.28:38199</li>\n",
       "  <li><b>Dashboard: </b><a href='http://10.12.205.28:8787/status' target='_blank'>http://10.12.205.28:8787/status</a></li>\n",
       "</ul>\n",
       "</td>\n",
       "<td style=\"vertical-align: top; border: 0px solid white\">\n",
       "<h3 style=\"text-align: left;\">Cluster</h3>\n",
       "<ul style=\"text-align: left; list-style:none; margin: 0; padding: 0;\">\n",
       "  <li><b>Workers: </b>0</li>\n",
       "  <li><b>Cores: </b>0</li>\n",
       "  <li><b>Memory: </b>0 B</li>\n",
       "</ul>\n",
       "</td>\n",
       "</tr>\n",
       "</table>"
      ],
      "text/plain": [
       "<Client: 'tcp://10.12.205.28:38199' processes=0 threads=0, memory=0 B>"
      ]
     },
     "execution_count": 2,
     "metadata": {},
     "output_type": "execute_result"
    }
   ],
   "source": [
    "from dask_jobqueue import SLURMCluster\n",
    "cluster = SLURMCluster(project='UWAS0052')\n",
    "cluster.scale(10)\n",
    "\n",
    "from dask.distributed import Client\n",
    "client = Client(cluster)\n",
    "client"
   ]
  },
  {
   "cell_type": "markdown",
   "metadata": {},
   "source": [
    "You can adjust the number of CPUs by changing the number in the `cluster.scale()` command."
   ]
  },
  {
   "cell_type": "markdown",
   "metadata": {},
   "source": [
    "Then, in the search bar at the top of the dask labextension pane, enter:\n",
    "```\n",
    "http://localhost:8888/proxy/8787/status\n",
    "```\n",
    "Note, that 8787 is the default port that dask will try to launch the cluster on. If it is occupied by another user, it will use a different number. Simply replace 8787 by the number before `/status` in the url next to **Dashboard** in the output of the client above."
   ]
  },
  {
   "cell_type": "markdown",
   "metadata": {},
   "source": [
    "Once you enter the address, the buttons that were previously grey should turn orange."
   ]
  },
  {
   "cell_type": "markdown",
   "metadata": {},
   "source": [
    "You can then open various monitoring panes from the orange buttons. The most useful (to me at least) are the TASK STREAM, PROGRESS and MEMORY (WORKER) tabs"
   ]
  },
  {
   "cell_type": "code",
   "execution_count": null,
   "metadata": {},
   "outputs": [],
   "source": []
  }
 ],
 "metadata": {
  "kernelspec": {
   "display_name": "Python 3",
   "language": "python",
   "name": "python3"
  },
  "language_info": {
   "codemirror_mode": {
    "name": "ipython",
    "version": 3
   },
   "file_extension": ".py",
   "mimetype": "text/x-python",
   "name": "python",
   "nbconvert_exporter": "python",
   "pygments_lexer": "ipython3",
   "version": "3.6.10"
  }
 },
 "nbformat": 4,
 "nbformat_minor": 4
}
